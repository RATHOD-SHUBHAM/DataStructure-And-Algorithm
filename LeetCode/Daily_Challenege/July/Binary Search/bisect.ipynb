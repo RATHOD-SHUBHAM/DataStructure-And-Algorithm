{
 "cells": [
  {
   "cell_type": "markdown",
   "id": "c395764d-6e51-4531-b507-6fd00caac4ba",
   "metadata": {},
   "source": [
    "# Bisect Module\n",
    "\n",
    "Used to find the insertion point for adding items in a sorted list.\n",
    "\n",
    "\n",
    "\n",
    "\n",
    "Runs in O(logn)"
   ]
  },
  {
   "cell_type": "code",
   "execution_count": 3,
   "id": "7d4642c5-f45d-49bf-bf62-f5beefca438c",
   "metadata": {},
   "outputs": [],
   "source": [
    "import bisect"
   ]
  },
  {
   "cell_type": "markdown",
   "id": "b08c41fd-ab26-4d3c-b811-5eeac8d19181",
   "metadata": {},
   "source": [
    "# Bisect Left\n",
    "\n",
    "```\n",
    "If match found:\n",
    "    Return Index to the left of matched index.\n",
    "\n",
    "If match is not found:\n",
    "    Return Index of correct insertion point in sorted index.\n",
    "```"
   ]
  },
  {
   "cell_type": "markdown",
   "id": "c23a0328-f5d4-46ca-b55b-dfd3ac129335",
   "metadata": {},
   "source": [
    "### Examples:"
   ]
  },
  {
   "cell_type": "code",
   "execution_count": 6,
   "id": "c8dbde6e-d1b5-4320-a8ac-cebe797ceff1",
   "metadata": {},
   "outputs": [],
   "source": [
    "a = [24, 33, 41, 41, 45, 50, 53, 59, 62, 66, 70]"
   ]
  },
  {
   "cell_type": "code",
   "execution_count": 153,
   "id": "6046c697-ac30-4825-8e13-652373cd99b3",
   "metadata": {},
   "outputs": [],
   "source": [
    "# If a items is found it will return index to the left of it\n",
    "pos = bisect.bisect_left(a, 41) "
   ]
  },
  {
   "cell_type": "code",
   "execution_count": 17,
   "id": "6e54152b-7945-468e-b92a-b019986e6807",
   "metadata": {},
   "outputs": [
    {
     "data": {
      "text/plain": [
       "2"
      ]
     },
     "execution_count": 17,
     "metadata": {},
     "output_type": "execute_result"
    }
   ],
   "source": [
    "pos"
   ]
  },
  {
   "cell_type": "code",
   "execution_count": 24,
   "id": "9f102238-f621-44bb-82c7-d266f623b79a",
   "metadata": {},
   "outputs": [],
   "source": [
    "# If no match is found, it will look for correct insertion point index in sorted list\n",
    "pos = bisect.bisect_left(a, 51) "
   ]
  },
  {
   "cell_type": "code",
   "execution_count": 26,
   "id": "58961862-de0a-4dc7-901d-f77538251cd3",
   "metadata": {},
   "outputs": [
    {
     "data": {
      "text/plain": [
       "6"
      ]
     },
     "execution_count": 26,
     "metadata": {},
     "output_type": "execute_result"
    }
   ],
   "source": [
    "pos"
   ]
  },
  {
   "cell_type": "code",
   "execution_count": 33,
   "id": "a91a078c-18ab-4b69-b4a9-eeff365497f1",
   "metadata": {},
   "outputs": [],
   "source": [
    "b = [1.3, 2.2, 3.4, 4.6, 5.5, 6.9, 7.2, 8.4]"
   ]
  },
  {
   "cell_type": "code",
   "execution_count": 35,
   "id": "29a59f6f-d9c7-47bc-8289-360a56bbe404",
   "metadata": {},
   "outputs": [],
   "source": [
    "pos = bisect.bisect_left(b, 4.1)"
   ]
  },
  {
   "cell_type": "code",
   "execution_count": 39,
   "id": "3a881a3b-c134-416d-8898-a4a1e9c89427",
   "metadata": {},
   "outputs": [
    {
     "data": {
      "text/plain": [
       "3"
      ]
     },
     "execution_count": 39,
     "metadata": {},
     "output_type": "execute_result"
    }
   ],
   "source": [
    "# Since match is not found, it will look for correct insertion point index in sorted list\n",
    "pos"
   ]
  },
  {
   "cell_type": "code",
   "execution_count": 41,
   "id": "f80e3bb6-7021-482f-9e68-cb0a229f0fc1",
   "metadata": {},
   "outputs": [],
   "source": [
    "pos = bisect.bisect_left(b, 8.8)"
   ]
  },
  {
   "cell_type": "code",
   "execution_count": 43,
   "id": "12efa77d-47a3-4e66-b2dd-a43899c582f7",
   "metadata": {},
   "outputs": [
    {
     "data": {
      "text/plain": [
       "8"
      ]
     },
     "execution_count": 43,
     "metadata": {},
     "output_type": "execute_result"
    }
   ],
   "source": [
    "pos"
   ]
  },
  {
   "cell_type": "code",
   "execution_count": 45,
   "id": "41677d8b-f954-47a5-bc0f-1d8b9ef1d873",
   "metadata": {},
   "outputs": [],
   "source": [
    "pos = bisect.bisect_left(b, 6.9)"
   ]
  },
  {
   "cell_type": "code",
   "execution_count": 47,
   "id": "60f807e2-5dd2-4fd1-8069-811fc0c93fdd",
   "metadata": {},
   "outputs": [
    {
     "data": {
      "text/plain": [
       "5"
      ]
     },
     "execution_count": 47,
     "metadata": {},
     "output_type": "execute_result"
    }
   ],
   "source": [
    "pos"
   ]
  },
  {
   "cell_type": "code",
   "execution_count": 105,
   "id": "1150fc0e-0239-4ca1-aa53-b7a1d5056f3d",
   "metadata": {},
   "outputs": [],
   "source": [
    "c = ['aaa', 'bbb', 'ccc', 'ddd']\n",
    "pos = bisect.bisect_left(c, 'bug')"
   ]
  },
  {
   "cell_type": "code",
   "execution_count": 107,
   "id": "eb6e49ac-464c-4ed8-9b0d-c35c63af61c8",
   "metadata": {},
   "outputs": [
    {
     "data": {
      "text/plain": [
       "2"
      ]
     },
     "execution_count": 107,
     "metadata": {},
     "output_type": "execute_result"
    }
   ],
   "source": [
    "pos"
   ]
  },
  {
   "cell_type": "code",
   "execution_count": null,
   "id": "3123841e-19cf-435e-9d19-1ab4ca970421",
   "metadata": {},
   "outputs": [],
   "source": []
  },
  {
   "cell_type": "markdown",
   "id": "18a032ed-0037-4a04-9f85-f0330c9ebd0f",
   "metadata": {},
   "source": [
    "# Insort Left\n",
    "\n",
    "```\n",
    "    Inserts an item at its correct position.\n",
    "    If there is a match. Insert to the left of matched index.\n",
    "```"
   ]
  },
  {
   "cell_type": "code",
   "execution_count": 110,
   "id": "cf78d156-35dc-4457-8d50-92b4e14b9c33",
   "metadata": {},
   "outputs": [],
   "source": [
    "d = [24, 33, 41, 41, 45, 50, 53, 59, 62, 66, 70]"
   ]
  },
  {
   "cell_type": "code",
   "execution_count": 112,
   "id": "95cb9b23-a299-40af-b8b2-58e8d36c304b",
   "metadata": {},
   "outputs": [],
   "source": [
    "bisect.insort_left(d, 41)"
   ]
  },
  {
   "cell_type": "code",
   "execution_count": 114,
   "id": "2591cb4d-0f11-420e-8ed3-7129816d824a",
   "metadata": {},
   "outputs": [
    {
     "data": {
      "text/plain": [
       "[24, 33, 41, 41, 41, 45, 50, 53, 59, 62, 66, 70]"
      ]
     },
     "execution_count": 114,
     "metadata": {},
     "output_type": "execute_result"
    }
   ],
   "source": [
    "d # Insert at index 2"
   ]
  },
  {
   "cell_type": "code",
   "execution_count": 116,
   "id": "d85ce543-9e70-4191-b0fb-8f024088ed9a",
   "metadata": {},
   "outputs": [],
   "source": [
    "bisect.insort_left(d, 43)"
   ]
  },
  {
   "cell_type": "code",
   "execution_count": 118,
   "id": "d21d2dad-08d5-4910-9b88-1ae32d0b54db",
   "metadata": {},
   "outputs": [
    {
     "data": {
      "text/plain": [
       "[24, 33, 41, 41, 41, 43, 45, 50, 53, 59, 62, 66, 70]"
      ]
     },
     "execution_count": 118,
     "metadata": {},
     "output_type": "execute_result"
    }
   ],
   "source": [
    "d # Insert at index index 5"
   ]
  },
  {
   "cell_type": "code",
   "execution_count": null,
   "id": "ad519288-8926-4369-9915-3ebf4b4246c2",
   "metadata": {},
   "outputs": [],
   "source": []
  },
  {
   "cell_type": "code",
   "execution_count": null,
   "id": "88ab5930-a478-48c3-a251-1a5cf8d2468b",
   "metadata": {},
   "outputs": [],
   "source": []
  },
  {
   "cell_type": "markdown",
   "id": "0a243c1f-7a5d-4923-9ad5-499e18e1dc92",
   "metadata": {},
   "source": [
    "# Bisect Right\n",
    "\n",
    "```\n",
    "    If Match Found:\n",
    "        Return index to the right of matched postion\n",
    "\n",
    "\n",
    "    If No Match is Found:\n",
    "        Return Index of correct insertion point in sorted list.\n",
    "```"
   ]
  },
  {
   "cell_type": "code",
   "execution_count": 65,
   "id": "a03a8120-5beb-44f0-b36c-05215e6005c3",
   "metadata": {},
   "outputs": [],
   "source": [
    "a = [24, 33, 41, 41, 45, 50, 53, 59, 62, 66, 70]"
   ]
  },
  {
   "cell_type": "code",
   "execution_count": 67,
   "id": "193098aa-e96a-41cf-bde6-31b040836c2a",
   "metadata": {},
   "outputs": [],
   "source": [
    "pos = bisect.bisect_right(a, 41)"
   ]
  },
  {
   "cell_type": "code",
   "execution_count": 71,
   "id": "f08120a9-c5b9-4e8a-b65a-df6a5de1e855",
   "metadata": {},
   "outputs": [
    {
     "data": {
      "text/plain": [
       "4"
      ]
     },
     "execution_count": 71,
     "metadata": {},
     "output_type": "execute_result"
    }
   ],
   "source": [
    "pos # Return index to the right of matched position"
   ]
  },
  {
   "cell_type": "code",
   "execution_count": 74,
   "id": "9bf4e4b9-5580-492a-a9fa-94e48a2bff90",
   "metadata": {},
   "outputs": [],
   "source": [
    "pos = bisect.bisect_right(a, 51)"
   ]
  },
  {
   "cell_type": "code",
   "execution_count": 78,
   "id": "5c6a257b-9b3b-4baf-8d3d-e773423051c9",
   "metadata": {},
   "outputs": [
    {
     "data": {
      "text/plain": [
       "6"
      ]
     },
     "execution_count": 78,
     "metadata": {},
     "output_type": "execute_result"
    }
   ],
   "source": [
    "pos # Since match is not found, it will look for correct insertion point index in sorted list"
   ]
  },
  {
   "cell_type": "code",
   "execution_count": 81,
   "id": "1eed8321-b739-4587-888e-416b0d2aeb9f",
   "metadata": {},
   "outputs": [],
   "source": [
    "b = [1.3, 2.2, 3.4, 4.6, 5.5, 6.9, 7.2, 8.4]\n",
    "pos = bisect.bisect_right(b, 2.2)"
   ]
  },
  {
   "cell_type": "code",
   "execution_count": 83,
   "id": "6682516f-e10d-467d-81b2-4ff4b9798480",
   "metadata": {},
   "outputs": [
    {
     "data": {
      "text/plain": [
       "2"
      ]
     },
     "execution_count": 83,
     "metadata": {},
     "output_type": "execute_result"
    }
   ],
   "source": [
    "pos"
   ]
  },
  {
   "cell_type": "code",
   "execution_count": 89,
   "id": "fa62f143-8579-4d65-b28c-d5b8e5bb8cc7",
   "metadata": {},
   "outputs": [],
   "source": [
    "c = ['A', 'big', 'dog', 'runs', 'slowly']\n",
    "pos = bisect.bisect_right(c, 'dog')"
   ]
  },
  {
   "cell_type": "code",
   "execution_count": 91,
   "id": "01c3218b-6430-4911-b94f-959423068c04",
   "metadata": {},
   "outputs": [
    {
     "data": {
      "text/plain": [
       "3"
      ]
     },
     "execution_count": 91,
     "metadata": {},
     "output_type": "execute_result"
    }
   ],
   "source": [
    "pos"
   ]
  },
  {
   "cell_type": "code",
   "execution_count": null,
   "id": "a8b99221-5225-4c9e-8de8-286b16c15593",
   "metadata": {},
   "outputs": [],
   "source": []
  },
  {
   "cell_type": "markdown",
   "id": "4919a164-9c0c-4b02-bfd4-332fc35b4bbc",
   "metadata": {},
   "source": [
    "# Insort Right\n",
    "\n",
    "```\n",
    "    Inserts an item at its correct position.\n",
    "    If there is a match. Insert to the right of matched index.\n",
    "```"
   ]
  },
  {
   "cell_type": "code",
   "execution_count": 95,
   "id": "edf3e46c-0bea-4df4-a9cf-b2e067ebd860",
   "metadata": {},
   "outputs": [],
   "source": [
    "d = [24, 33, 41, 41, 45, 50, 53, 59, 62, 66, 70]\n",
    "bisect.insort_right(d, 46)"
   ]
  },
  {
   "cell_type": "code",
   "execution_count": 99,
   "id": "23990379-aaca-4c2b-9cf7-1a688f258108",
   "metadata": {},
   "outputs": [
    {
     "data": {
      "text/plain": [
       "[24, 33, 41, 41, 45, 46, 50, 53, 59, 62, 66, 70]"
      ]
     },
     "execution_count": 99,
     "metadata": {},
     "output_type": "execute_result"
    }
   ],
   "source": [
    "d # insert at position 5"
   ]
  },
  {
   "cell_type": "code",
   "execution_count": 101,
   "id": "fe38f051-0b5b-4de8-a0c4-bf936c7a0501",
   "metadata": {},
   "outputs": [],
   "source": [
    "bisect.insort_right(d, 43)"
   ]
  },
  {
   "cell_type": "code",
   "execution_count": 103,
   "id": "e4e56dc7-c87d-4993-94d7-7f1c1d2b7323",
   "metadata": {},
   "outputs": [
    {
     "data": {
      "text/plain": [
       "[24, 33, 41, 41, 43, 45, 46, 50, 53, 59, 62, 66, 70]"
      ]
     },
     "execution_count": 103,
     "metadata": {},
     "output_type": "execute_result"
    }
   ],
   "source": [
    "d # insert at postion 4"
   ]
  },
  {
   "cell_type": "code",
   "execution_count": null,
   "id": "f04a8c1a-ff56-4298-b7c7-d4fd5ab39f11",
   "metadata": {},
   "outputs": [],
   "source": []
  },
  {
   "cell_type": "markdown",
   "id": "0397a1cc-b05d-46c9-b752-dd7eb59b0706",
   "metadata": {},
   "source": [
    "# Bisect Right and Left\n",
    "\n",
    "```\n",
    "    If match is found:\n",
    "        Bisect_left = It will return index to the left of matched element.\n",
    "        Bisect_right = It will return index to the right of matched element.\n",
    "\n",
    "    If no match is found:\n",
    "        Return Index of correct insertion point in sorted list.\n",
    "```"
   ]
  },
  {
   "cell_type": "code",
   "execution_count": 128,
   "id": "b590ffb9-4bc8-42ce-bd95-e9a14745494b",
   "metadata": {},
   "outputs": [],
   "source": [
    "a = [24, 33, 41, 41, 45, 50, 53, 59, 62, 66, 70]"
   ]
  },
  {
   "cell_type": "code",
   "execution_count": 130,
   "id": "5f9e7844-25da-4126-b2d1-73e74b144bdd",
   "metadata": {},
   "outputs": [],
   "source": [
    "pos = bisect.bisect_right(a, 41)"
   ]
  },
  {
   "cell_type": "code",
   "execution_count": 132,
   "id": "32fde99f-f9c6-423c-9ed5-ff645d2c8d3d",
   "metadata": {},
   "outputs": [
    {
     "data": {
      "text/plain": [
       "4"
      ]
     },
     "execution_count": 132,
     "metadata": {},
     "output_type": "execute_result"
    }
   ],
   "source": [
    "pos # Return Index to the right of matched element"
   ]
  },
  {
   "cell_type": "code",
   "execution_count": 134,
   "id": "6bd0cbf4-5487-4e91-9613-d8902d52d7d3",
   "metadata": {},
   "outputs": [],
   "source": [
    "pos = bisect.bisect_left(a, 41)"
   ]
  },
  {
   "cell_type": "code",
   "execution_count": 136,
   "id": "c84d76a9-a6d6-4035-a409-d7a5a7477d5a",
   "metadata": {},
   "outputs": [
    {
     "data": {
      "text/plain": [
       "2"
      ]
     },
     "execution_count": 136,
     "metadata": {},
     "output_type": "execute_result"
    }
   ],
   "source": [
    "pos # Return Index to left of matched element"
   ]
  },
  {
   "cell_type": "code",
   "execution_count": 138,
   "id": "2dcd105b-de7e-42f2-9b3f-a27b907f674d",
   "metadata": {},
   "outputs": [],
   "source": [
    "a = [24, 33, 41, 41, 45, 50, 53, 59, 62, 66, 70]"
   ]
  },
  {
   "cell_type": "code",
   "execution_count": 140,
   "id": "406282ac-72f6-4695-b6fc-adf4249c6050",
   "metadata": {},
   "outputs": [],
   "source": [
    "pos = bisect.bisect_right(a, 51)"
   ]
  },
  {
   "cell_type": "code",
   "execution_count": 150,
   "id": "bfd7ce13-0984-4947-b2a7-5b2e02fd4564",
   "metadata": {},
   "outputs": [
    {
     "data": {
      "text/plain": [
       "6"
      ]
     },
     "execution_count": 150,
     "metadata": {},
     "output_type": "execute_result"
    }
   ],
   "source": [
    "pos # If not match is found , return index of correct position to insert"
   ]
  },
  {
   "cell_type": "code",
   "execution_count": 144,
   "id": "b8d5d77a-7764-4a76-9086-5711f1e17e64",
   "metadata": {},
   "outputs": [],
   "source": [
    "pos = bisect.bisect_left(a, 52)"
   ]
  },
  {
   "cell_type": "code",
   "execution_count": 146,
   "id": "8d473ed7-7990-4d2b-9713-3c061f92998f",
   "metadata": {},
   "outputs": [
    {
     "data": {
      "text/plain": [
       "6"
      ]
     },
     "execution_count": 146,
     "metadata": {},
     "output_type": "execute_result"
    }
   ],
   "source": [
    "pos"
   ]
  },
  {
   "cell_type": "code",
   "execution_count": null,
   "id": "2cece495-9d28-437e-a1e1-b82fb7e0e411",
   "metadata": {},
   "outputs": [],
   "source": []
  }
 ],
 "metadata": {
  "kernelspec": {
   "display_name": "Python 3 (ipykernel)",
   "language": "python",
   "name": "python3"
  },
  "language_info": {
   "codemirror_mode": {
    "name": "ipython",
    "version": 3
   },
   "file_extension": ".py",
   "mimetype": "text/x-python",
   "name": "python",
   "nbconvert_exporter": "python",
   "pygments_lexer": "ipython3",
   "version": "3.11.7"
  }
 },
 "nbformat": 4,
 "nbformat_minor": 5
}
