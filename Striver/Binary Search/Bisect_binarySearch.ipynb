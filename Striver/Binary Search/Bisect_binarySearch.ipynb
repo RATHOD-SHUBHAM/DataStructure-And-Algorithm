{
  "nbformat": 4,
  "nbformat_minor": 0,
  "metadata": {
    "colab": {
      "provenance": []
    },
    "kernelspec": {
      "name": "python3",
      "display_name": "Python 3"
    },
    "language_info": {
      "name": "python"
    }
  },
  "cells": [
    {
      "cell_type": "markdown",
      "source": [
        "# Bisect\n",
        "\n",
        "https://docs.python.org/3/library/bisect.html"
      ],
      "metadata": {
        "id": "1n4Jfw9rxXvI"
      }
    },
    {
      "cell_type": "code",
      "source": [
        "import bisect"
      ],
      "metadata": {
        "id": "Gviz2ngZvuuk"
      },
      "execution_count": null,
      "outputs": []
    },
    {
      "cell_type": "code",
      "execution_count": null,
      "metadata": {
        "id": "SnYiBzEsvH6m"
      },
      "outputs": [],
      "source": [
        "arr = [4, 33, 56, 34, 18, 9, 67, 25, 74]"
      ]
    },
    {
      "cell_type": "code",
      "source": [
        "bisect.bisect_left(arr, 34)"
      ],
      "metadata": {
        "colab": {
          "base_uri": "https://localhost:8080/"
        },
        "id": "MSdubw88vdUe",
        "outputId": "456e967b-db41-4d42-8341-9e812e8573ea"
      },
      "execution_count": null,
      "outputs": [
        {
          "output_type": "execute_result",
          "data": {
            "text/plain": [
              "8"
            ]
          },
          "metadata": {},
          "execution_count": 20
        }
      ]
    },
    {
      "cell_type": "code",
      "source": [
        "bisect.bisect_right(arr, 34)"
      ],
      "metadata": {
        "colab": {
          "base_uri": "https://localhost:8080/"
        },
        "id": "j4oOR6qCwYJp",
        "outputId": "da5fbfec-0d89-4187-d813-b17586a8d17d"
      },
      "execution_count": 24,
      "outputs": [
        {
          "output_type": "execute_result",
          "data": {
            "text/plain": [
              "8"
            ]
          },
          "metadata": {},
          "execution_count": 24
        }
      ]
    },
    {
      "cell_type": "markdown",
      "source": [
        "# Make sure the arr is sorted before using bisect function"
      ],
      "metadata": {
        "id": "zXchNxciwbN7"
      }
    },
    {
      "cell_type": "code",
      "source": [
        "a = sorted(arr)\n",
        "print(a)"
      ],
      "metadata": {
        "colab": {
          "base_uri": "https://localhost:8080/"
        },
        "id": "6Ct-K0rLvtop",
        "outputId": "2d36b410-d14e-4eaa-c3e8-3d0286e6b51a"
      },
      "execution_count": null,
      "outputs": [
        {
          "output_type": "stream",
          "name": "stdout",
          "text": [
            "[4, 9, 18, 25, 33, 34, 56, 67, 74]\n"
          ]
        }
      ]
    },
    {
      "cell_type": "markdown",
      "source": [
        "## bisect_left\n",
        "\n",
        "Insert to the left\n",
        "\n",
        "If x is already present in a, the insertion point will be before (to the left of) any existing entries."
      ],
      "metadata": {
        "id": "4mB8F8Y5wuB9"
      }
    },
    {
      "cell_type": "code",
      "source": [
        "bisect.bisect_left(a, 34)"
      ],
      "metadata": {
        "id": "NyAbjuuOv2_2",
        "colab": {
          "base_uri": "https://localhost:8080/"
        },
        "outputId": "b879eefc-fe1d-4624-fba3-189c645270b5"
      },
      "execution_count": 26,
      "outputs": [
        {
          "output_type": "execute_result",
          "data": {
            "text/plain": [
              "5"
            ]
          },
          "metadata": {},
          "execution_count": 26
        }
      ]
    },
    {
      "cell_type": "markdown",
      "source": [
        "## bisect_right\n",
        "\n",
        "insertion point which comes after (to the right of) any existing entries of x in a."
      ],
      "metadata": {
        "id": "fTplLvMSw5oR"
      }
    },
    {
      "cell_type": "code",
      "source": [
        "bisect.bisect_right(a, 34)"
      ],
      "metadata": {
        "colab": {
          "base_uri": "https://localhost:8080/"
        },
        "id": "WthELzqDwRNi",
        "outputId": "aa9a17c3-ceae-4be9-bf21-a31fb51d1117"
      },
      "execution_count": 25,
      "outputs": [
        {
          "output_type": "execute_result",
          "data": {
            "text/plain": [
              "6"
            ]
          },
          "metadata": {},
          "execution_count": 25
        }
      ]
    },
    {
      "cell_type": "code",
      "source": [],
      "metadata": {
        "id": "v6es2vA5wmIs"
      },
      "execution_count": null,
      "outputs": []
    },
    {
      "cell_type": "code",
      "source": [],
      "metadata": {
        "id": "TYEuQ1KXxA0j"
      },
      "execution_count": null,
      "outputs": []
    },
    {
      "cell_type": "code",
      "source": [
        "bisect.bisect_left(a, 64)"
      ],
      "metadata": {
        "colab": {
          "base_uri": "https://localhost:8080/"
        },
        "id": "C_ngW3cZxAyj",
        "outputId": "b7ed555f-671c-410b-9e16-ebc9da680951"
      },
      "execution_count": 27,
      "outputs": [
        {
          "output_type": "execute_result",
          "data": {
            "text/plain": [
              "7"
            ]
          },
          "metadata": {},
          "execution_count": 27
        }
      ]
    },
    {
      "cell_type": "code",
      "source": [
        "bisect.bisect_right(a, 64)"
      ],
      "metadata": {
        "colab": {
          "base_uri": "https://localhost:8080/"
        },
        "id": "8JyGkvcFxCzs",
        "outputId": "4423aa89-d35a-427d-8624-5b66574fdc4c"
      },
      "execution_count": 28,
      "outputs": [
        {
          "output_type": "execute_result",
          "data": {
            "text/plain": [
              "7"
            ]
          },
          "metadata": {},
          "execution_count": 28
        }
      ]
    },
    {
      "cell_type": "code",
      "source": [
        "bisect.bisect_left(a, 3)"
      ],
      "metadata": {
        "colab": {
          "base_uri": "https://localhost:8080/"
        },
        "id": "mvX7KuiFxHfI",
        "outputId": "97b73821-5e8e-4f6a-9f33-c91a097ad09c"
      },
      "execution_count": 29,
      "outputs": [
        {
          "output_type": "execute_result",
          "data": {
            "text/plain": [
              "0"
            ]
          },
          "metadata": {},
          "execution_count": 29
        }
      ]
    },
    {
      "cell_type": "code",
      "source": [
        "bisect.bisect_left(a, 5)"
      ],
      "metadata": {
        "colab": {
          "base_uri": "https://localhost:8080/"
        },
        "id": "soWiHbeexQpa",
        "outputId": "78b0fbbf-594d-4b47-ec6f-8b98524e5435"
      },
      "execution_count": 30,
      "outputs": [
        {
          "output_type": "execute_result",
          "data": {
            "text/plain": [
              "1"
            ]
          },
          "metadata": {},
          "execution_count": 30
        }
      ]
    },
    {
      "cell_type": "code",
      "source": [],
      "metadata": {
        "id": "JUFiRAy-xSap"
      },
      "execution_count": null,
      "outputs": []
    }
  ]
}